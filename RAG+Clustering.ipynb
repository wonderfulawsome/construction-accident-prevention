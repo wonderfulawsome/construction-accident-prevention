{
 "cells": [
  {
   "cell_type": "code",
   "execution_count": 2,
   "metadata": {},
   "outputs": [],
   "source": [
    "import pandas as pd\n",
    "import numpy as np\n",
    "import re\n",
    "import string\n",
    "from konlpy.tag import Komoran\n",
    "import torch\n",
    "from sklearn.metrics.pairwise import cosine_similarity\n",
    "from tqdm.auto import tqdm\n",
    "from sentence_transformers import SentenceTransformer\n",
    "from transformers import AutoModelForCausalLM, AutoTokenizer"
   ]
  },
  {
   "cell_type": "code",
   "execution_count": 3,
   "metadata": {},
   "outputs": [],
   "source": [
    "file_path = r\"C:\\Users\\82106\\Desktop\\데이콘 한솔데크\\data\\train.csv\"\n",
    "train = pd.read_csv(file_path)\n",
    "\n",
    "file_path = r\"C:\\Users\\82106\\Desktop\\데이콘 한솔데크\\data\\test.csv\"\n",
    "test = pd.read_csv(file_path)\n",
    "\n",
    "file_path = r\"C:\\Users\\82106\\Desktop\\데이콘 한솔데크\\data\\sample_submission.csv\"\n",
    "sample = pd.read_csv(file_path)"
   ]
  },
  {
   "cell_type": "code",
   "execution_count": null,
   "metadata": {},
   "outputs": [],
   "source": [
    "from konlpy.tag import Komoran\n",
    "\n",
    "komoran = Komoran()\n",
    "\n",
    "with open('C:/Users/82106/Desktop/데이콘 한솔데크/불용어.txt', 'r', encoding='cp949') as f:\n",
    "  list_file = f.readlines() \n",
    "stopwords = list_file[0].split(\",\")\n",
    "\n",
    "# 정규화\n",
    "def preprocess(text):\n",
    "    text=text.strip()  \n",
    "    text=re.compile('<.*?>').sub('', text) \n",
    "    text = re.compile('[%s]' % re.escape(string.punctuation)).sub(' ', text)  \n",
    "    text = re.sub('\\s+', ' ', text)  \n",
    "    text = re.sub(r'\\[[0-9]*\\]',' ',text) \n",
    "    text=re.sub(r'[^\\w\\s]', ' ', str(text).strip())\n",
    "    text = re.sub(r'\\d',' ',text) \n",
    "    text = re.sub(r'\\s+',' ',text) \n",
    "    return text\n",
    "\n",
    "\n",
    "# 명사/영단어 추출, 한글자 제외, 불용어 제거\n",
    "def remove_stopwords(text):\n",
    "    n = []\n",
    "    word = komoran.nouns(text)\n",
    "    p = komoran.pos(text)\n",
    "    for pos in p:\n",
    "      if pos[1] in ['SL']:\n",
    "        word.append(pos[0])\n",
    "    for w in word:\n",
    "      if len(w)>1 and w not in stopwords:\n",
    "        n.append(w)\n",
    "    return \" \".join(n)\n",
    "\n",
    "# 최종\n",
    "def finalpreprocess(text):\n",
    "  return remove_stopwords(preprocess(text))\n",
    "\n",
    "# 전처리 및 불용어 제거 적용 (두 단계)\n",
    "train[\"재발방지대책 및 향후조치계획_preprocessed\"] = train[\"재발방지대책 및 향후조치계획\"].apply(finalpreprocess)\n",
    "\n",
    "# 결과 확인\n",
    "print(train[\"재발방지대책 및 향후조치계획_preprocessed\"].head())"
   ]
  },
  {
   "cell_type": "code",
   "execution_count": 10,
   "metadata": {},
   "outputs": [
    {
     "data": {
      "application/vnd.jupyter.widget-view+json": {
       "model_id": "cce903abf7fb42e19dc26221a1ff60bd",
       "version_major": 2,
       "version_minor": 0
      },
      "text/plain": [
       "Loading checkpoint shards:   0%|          | 0/2 [00:00<?, ?it/s]"
      ]
     },
     "metadata": {},
     "output_type": "display_data"
    },
    {
     "name": "stderr",
     "output_type": "stream",
     "text": [
      "Some parameters are on the meta device because they were offloaded to the cpu and disk.\n"
     ]
    }
   ],
   "source": [
    "from sentence_transformers import SentenceTransformer\n",
    "from transformers import AutoModelForCausalLM, AutoTokenizer\n",
    "\n",
    "# 모델 로드\n",
    "model = SentenceTransformer(\"jhgan/ko-sbert-sts\")\n",
    "model_name = \"LGAI-EXAONE/EXAONE-3.5-2.4B-Instruct\"\n",
    "llm_model = AutoModelForCausalLM.from_pretrained(model_name, torch_dtype=torch.bfloat16, trust_remote_code=True, device_map=\"auto\")\n",
    "tokenizer = AutoTokenizer.from_pretrained(model_name)"
   ]
  },
  {
   "cell_type": "code",
   "execution_count": null,
   "metadata": {},
   "outputs": [
    {
     "data": {
      "application/vnd.jupyter.widget-view+json": {
       "model_id": "86523312ae364f09a6395c21e35db411",
       "version_major": 2,
       "version_minor": 0
      },
      "text/plain": [
       "  0%|          | 0/23 [00:00<?, ?it/s]"
      ]
     },
     "metadata": {},
     "output_type": "display_data"
    },
    {
     "data": {
      "application/vnd.jupyter.widget-view+json": {
       "model_id": "6a35287e14024a7190c2387fc4ff1d69",
       "version_major": 2,
       "version_minor": 0
      },
      "text/plain": [
       "Batches:   0%|          | 0/2 [00:00<?, ?it/s]"
      ]
     },
     "metadata": {},
     "output_type": "display_data"
    },
    {
     "data": {
      "application/vnd.jupyter.widget-view+json": {
       "model_id": "a490e41372944a02b4e8bbf9196f19f1",
       "version_major": 2,
       "version_minor": 0
      },
      "text/plain": [
       "Batches:   0%|          | 0/4 [00:00<?, ?it/s]"
      ]
     },
     "metadata": {},
     "output_type": "display_data"
    },
    {
     "data": {
      "application/vnd.jupyter.widget-view+json": {
       "model_id": "801cea62a3d048969f1c64c004870053",
       "version_major": 2,
       "version_minor": 0
      },
      "text/plain": [
       "Batches:   0%|          | 0/60 [00:00<?, ?it/s]"
      ]
     },
     "metadata": {},
     "output_type": "display_data"
    },
    {
     "data": {
      "application/vnd.jupyter.widget-view+json": {
       "model_id": "8c6bbde86e12475e87dd0e85df6285db",
       "version_major": 2,
       "version_minor": 0
      },
      "text/plain": [
       "Batches:   0%|          | 0/17 [00:00<?, ?it/s]"
      ]
     },
     "metadata": {},
     "output_type": "display_data"
    },
    {
     "data": {
      "application/vnd.jupyter.widget-view+json": {
       "model_id": "d8efcb1fb0b94caeac1f7f19cb905bf3",
       "version_major": 2,
       "version_minor": 0
      },
      "text/plain": [
       "Batches:   0%|          | 0/80 [00:00<?, ?it/s]"
      ]
     },
     "metadata": {},
     "output_type": "display_data"
    },
    {
     "data": {
      "application/vnd.jupyter.widget-view+json": {
       "model_id": "56ab17fcfe344e19b28dc0d5390f9928",
       "version_major": 2,
       "version_minor": 0
      },
      "text/plain": [
       "Batches:   0%|          | 0/65 [00:00<?, ?it/s]"
      ]
     },
     "metadata": {},
     "output_type": "display_data"
    },
    {
     "data": {
      "application/vnd.jupyter.widget-view+json": {
       "model_id": "4f1fe78b367d4ecc94ce16a42903a9c8",
       "version_major": 2,
       "version_minor": 0
      },
      "text/plain": [
       "Batches:   0%|          | 0/47 [00:00<?, ?it/s]"
      ]
     },
     "metadata": {},
     "output_type": "display_data"
    },
    {
     "data": {
      "application/vnd.jupyter.widget-view+json": {
       "model_id": "50b40156fea644ce92ce39008eedd21c",
       "version_major": 2,
       "version_minor": 0
      },
      "text/plain": [
       "Batches:   0%|          | 0/69 [00:00<?, ?it/s]"
      ]
     },
     "metadata": {},
     "output_type": "display_data"
    },
    {
     "data": {
      "application/vnd.jupyter.widget-view+json": {
       "model_id": "8e63b0b85a02450cb4e0c4c64ccf3764",
       "version_major": 2,
       "version_minor": 0
      },
      "text/plain": [
       "Batches:   0%|          | 0/7 [00:00<?, ?it/s]"
      ]
     },
     "metadata": {},
     "output_type": "display_data"
    },
    {
     "data": {
      "application/vnd.jupyter.widget-view+json": {
       "model_id": "44a710d813194ca6afe1e4d3c8dccdbd",
       "version_major": 2,
       "version_minor": 0
      },
      "text/plain": [
       "Batches:   0%|          | 0/55 [00:00<?, ?it/s]"
      ]
     },
     "metadata": {},
     "output_type": "display_data"
    },
    {
     "data": {
      "application/vnd.jupyter.widget-view+json": {
       "model_id": "61d4d8ff40ea45139c1dd5a12a24530b",
       "version_major": 2,
       "version_minor": 0
      },
      "text/plain": [
       "Batches:   0%|          | 0/24 [00:00<?, ?it/s]"
      ]
     },
     "metadata": {},
     "output_type": "display_data"
    },
    {
     "data": {
      "application/vnd.jupyter.widget-view+json": {
       "model_id": "4500b45a59174725a2f5cee9f96394b8",
       "version_major": 2,
       "version_minor": 0
      },
      "text/plain": [
       "Batches:   0%|          | 0/18 [00:00<?, ?it/s]"
      ]
     },
     "metadata": {},
     "output_type": "display_data"
    },
    {
     "data": {
      "application/vnd.jupyter.widget-view+json": {
       "model_id": "259bc3148a674f388fa6620ba004595f",
       "version_major": 2,
       "version_minor": 0
      },
      "text/plain": [
       "Batches:   0%|          | 0/10 [00:00<?, ?it/s]"
      ]
     },
     "metadata": {},
     "output_type": "display_data"
    },
    {
     "data": {
      "application/vnd.jupyter.widget-view+json": {
       "model_id": "d92a8e67ad8a484397c9b43751bac1a0",
       "version_major": 2,
       "version_minor": 0
      },
      "text/plain": [
       "Batches:   0%|          | 0/23 [00:00<?, ?it/s]"
      ]
     },
     "metadata": {},
     "output_type": "display_data"
    },
    {
     "data": {
      "application/vnd.jupyter.widget-view+json": {
       "model_id": "105ea7d732394ea286ec0caf3f89485d",
       "version_major": 2,
       "version_minor": 0
      },
      "text/plain": [
       "Batches:   0%|          | 0/109 [00:00<?, ?it/s]"
      ]
     },
     "metadata": {},
     "output_type": "display_data"
    },
    {
     "data": {
      "application/vnd.jupyter.widget-view+json": {
       "model_id": "6978e4159ff54973b3c2c807641ae783",
       "version_major": 2,
       "version_minor": 0
      },
      "text/plain": [
       "Batches:   0%|          | 0/57 [00:00<?, ?it/s]"
      ]
     },
     "metadata": {},
     "output_type": "display_data"
    },
    {
     "data": {
      "application/vnd.jupyter.widget-view+json": {
       "model_id": "a1474ff9beb44c40a3e60215102b4928",
       "version_major": 2,
       "version_minor": 0
      },
      "text/plain": [
       "Batches:   0%|          | 0/8 [00:00<?, ?it/s]"
      ]
     },
     "metadata": {},
     "output_type": "display_data"
    },
    {
     "data": {
      "application/vnd.jupyter.widget-view+json": {
       "model_id": "631c51392a054fcebff423e21f448932",
       "version_major": 2,
       "version_minor": 0
      },
      "text/plain": [
       "Batches:   0%|          | 0/7 [00:00<?, ?it/s]"
      ]
     },
     "metadata": {},
     "output_type": "display_data"
    },
    {
     "data": {
      "application/vnd.jupyter.widget-view+json": {
       "model_id": "3b4bc860db104258be17d8120a386a65",
       "version_major": 2,
       "version_minor": 0
      },
      "text/plain": [
       "Batches:   0%|          | 0/52 [00:00<?, ?it/s]"
      ]
     },
     "metadata": {},
     "output_type": "display_data"
    },
    {
     "data": {
      "application/vnd.jupyter.widget-view+json": {
       "model_id": "903a7f9826994c62a5e2cad8fbbe7d8b",
       "version_major": 2,
       "version_minor": 0
      },
      "text/plain": [
       "Batches:   0%|          | 0/12 [00:00<?, ?it/s]"
      ]
     },
     "metadata": {},
     "output_type": "display_data"
    },
    {
     "data": {
      "application/vnd.jupyter.widget-view+json": {
       "model_id": "3b6c41d533da4012a2fe1383f6bfd1d1",
       "version_major": 2,
       "version_minor": 0
      },
      "text/plain": [
       "Batches:   0%|          | 0/1 [00:00<?, ?it/s]"
      ]
     },
     "metadata": {},
     "output_type": "display_data"
    },
    {
     "data": {
      "application/vnd.jupyter.widget-view+json": {
       "model_id": "90df3a23d9ae47c09511983660fbbc89",
       "version_major": 2,
       "version_minor": 0
      },
      "text/plain": [
       "Batches:   0%|          | 0/10 [00:00<?, ?it/s]"
      ]
     },
     "metadata": {},
     "output_type": "display_data"
    },
    {
     "data": {
      "application/vnd.jupyter.widget-view+json": {
       "model_id": "9a4b7e7671c440af90271deb87a7388c",
       "version_major": 2,
       "version_minor": 0
      },
      "text/plain": [
       "Batches:   0%|          | 0/6 [00:00<?, ?it/s]"
      ]
     },
     "metadata": {},
     "output_type": "display_data"
    },
    {
     "name": "stdout",
     "output_type": "stream",
     "text": [
      "{'감전': '현장대리인 및 공사감리자 안전교육 및 후속점검 예정.', '교통사고': '작업용 차량의 사전작업계획서 제출, 운전원 안전교육 실시, 전담신호수 배치 및 근로자 접근통제 조치 준수, 정기적인 재발 방지 이행 여부 확인과 현장 안전 점검 실시.', '기타': '작업전 안전교육 및 특별안전교육 실시와 안전관리 및 안전교육 철저를 통한 재발 방지 대책.', '깔림': '작업전 안전교육 및 안전점검 철저를 통한 사고 재발 방지 대책.', '끼임': '안전작업계획 및 작업내용 주의와 교육 실시와 작업 전 안전점검 실시를 통한 재발 방지 대책.', '넘어짐(기타)': '작업자 교육 실시와 현장 안전관리 철저를 통한 안전사고 예방.', '넘어짐(물체에 걸림)': '작업 이동 동선 확보, 돌출 자재 보호 조치 실시 및 표식 설치, 현장 전 근로자 특별안전교육 실시와 안전수칙 이행 여부 관리감독 철저.', '넘어짐(미끄러짐)': '작업 시작 전 안전교육 실시 및 법정 안전교육 강화, 현장 위험 요인 수시 점검, 위험 부분 정리정돈 철저, 사전 안내 시설 설치를 통한 작업자의 안전의식 고취.', '떨어짐(10미터 이상)': '안전 교육 실시와 작업자 특별안전교육 및 현장안전관리 철저를 통한 사고 재발 방지 대책.', '떨어짐(2미터 미만)': '작업방법 및 순서에 대한 근로자 안전교육 실시와 T.B.M 시 안전교육 강화, 관리감독자의 수시 점검, 현장 내 작업 전후 안전교육 철저 진행, 근로자 작업구간 수시 순찰 실시를 통한 재해 발생 방지 관리감독 강화.', '떨어짐(2미터 이상 ~ 3미터 미만)': '안전수칙 철저 및 작업자 안전교육 실시를 통한 재발 방지 대책과 향후 조치 계획.', '떨어짐(3미터 이상 ~ 5미터 미만)': '사고 예방을 위한 안전조치 및 작업자 안전교육 실시와 작업현장 관리 철저.', '떨어짐(5미터 이상 ~ 10미터 미만)': '낙하물 방지 안전망 설치와 작업자 안전장치 사용 철저, 공사중지 후 현장 안전시설 추가 보완 및 작업자 안전교육 실시.', '떨어짐(분류불능)': '작업 전 안전관리 교육, 안전시설 재점검, 안전장구류 착용 철저 및 안전사고 예방을 위한 안전교육과 안전시설 점검 철저.', '물체에 맞음': '작업 전 안전교육 실시와 안전점검 철저 지시를 통한 재발 방지 대책 마련.', '부딪힘': '작업전 안전교육 철저와 작업중 위험요인 파악 및 제거를 통한 재발 방지 대책 및 향후 조치 계획.', '분류불능': '안전 관리감독 및 교육 강화를 통한 근골격계 질환 예방을 위한 조치 계획으로 작업개시 전 스트레칭 실시, 특별교육 및 위험성 평가에 따른 철저한 교육과 관리, 정기교육 시 재해 상황 전파 및 예방 수칙 교육, 근로자 스트레칭 실시 여부 확인, 유해요인 조사 및 작업방법 개선이 포함됨.', '없음': '작업자 안전교육 실시를 통한 재발 방지 대책 및 향후 조치 계획.', '절단, 베임': '작업전 안전교육 실시, 작업수칙 준수, 기계공구류 안전장치 확인을 통한 재발 방지 대책 및 향후 조치 계획.', '질병': '근골격계질환 예방관리를 위한 철저한 안전보건교육 실시, 스트레칭 및 근력 강화, 근로자 건강 상담 강화, TBM 시간 및 휴식시간에 스트레칭 후 작업 투입 교육 실시와 질병 예방 관리 감독의 철저함.', '질식': '작업 전 특별 교육, 가스 농도 측정, 위험 표지 간판 설치, 감시인 배치 및 출입 관리, 호흡용 보호구 지급, 유가족 합의, 노동부 현장 근로 감독 후 시정 조치 및 작업 재개 신청 예정에 대한 종합적인 재발 방지 대책.', '찔림': '작업자 안전교육 실시 및 보호구 착용 철저를 통한 재발 방지 대책 마련.', '화상': '화기 및 위험 작업자 특별 안전교육 실시, 작업 전 위험성 평가 후 안전대책 수립 및 이행 상태 확인, 작업발판 고정 및 안전시설 점검 철저에 대한 재발 방지 대책 접수.'}\n"
     ]
    }
   ],
   "source": [
    "from sklearn.cluster import KMeans\n",
    "\n",
    "# 인적사고 그룹화\n",
    "grouped = train.groupby(\"인적사고\")\n",
    "\n",
    "res = {}\n",
    "\n",
    "for name, group in tqdm(grouped):\n",
    "    plans = group[\"재발방지대책 및 향후조치계획\"].dropna().tolist()\n",
    "\n",
    "    if len(plans) == 0:\n",
    "        continue  # 대책 텍스트가 없는 경우 건너뛰기\n",
    "\n",
    "    # 문장 임베딩 생성\n",
    "    vectors = model.encode(plans, batch_size=32, show_progress_bar=True)\n",
    "\n",
    "    # 최적 클러스터 개수 c설정 (문장 수에 따라 다르게 적용)\n",
    "    num_clusters = min(len(plans), 3)  # 최소 3개의 클러스터 (문장 수보다 많을 수 없음)\n",
    "\n",
    "    if num_clusters > 1:\n",
    "        # KMeans 클러스터링 수행\n",
    "        kmeans = KMeans(n_clusters=num_clusters, random_state=42, n_init=10)\n",
    "        kmeans.fit(vectors)\n",
    "        cluster_centers = kmeans.luster_centers_\n",
    "\n",
    "        # 각 클러스터별 대표 문장 선정 (중심과 가장 가까운 문장)\n",
    "        representative_indices = []\n",
    "        for center in cluster_centers:\n",
    "            similarities = cosine_similarity([center], vectors)[0]\n",
    "            best_idx = similarities.argmax()\n",
    "            representative_indices.append(best_idx)\n",
    "\n",
    "        representative_plans = [plans[i] for i in representative_indices]\n",
    "    else:\n",
    "        # 문장이 하나밖에 없는 경우 그대로 사용\n",
    "        representative_plans = plans\n",
    "\n",
    "    # 최종 대표 문장 선정 (유사도 기준 최선의 하나만 선택)\n",
    "    final_vectors = model.encode(representative_plans)\n",
    "    final_similarities = cosine_similarity(final_vectors, final_vectors)\n",
    "    best_idx = final_similarities.mean(axis=1).argmax()\n",
    "    representative_plan = representative_plans[best_idx]\n",
    "\n",
    "    res[name] = representative_plan\n",
    "\n",
    "# 결과 확인\n",
    "print(res)\n"
   ]
  },
  {
   "cell_type": "code",
   "execution_count": 13,
   "metadata": {},
   "outputs": [],
   "source": [
    "res_v = {}\n",
    "for k,v in res.items():\n",
    "    res_v[k] = model.encode(v)"
   ]
  },
  {
   "cell_type": "code",
   "execution_count": 14,
   "metadata": {},
   "outputs": [],
   "source": [
    "for i in range(len(test)):\n",
    "    accident = test.loc[i, \"인적사고\"]\n",
    "    sample.loc[i, \"재발방지대책 및 향후조치계획\"] = res[accident]\n",
    "    sample.iloc[i, 2:] = res_v[accident]"
   ]
  },
  {
   "cell_type": "code",
   "execution_count": 15,
   "metadata": {},
   "outputs": [],
   "source": [
    "sample.to_csv(\"C:/Users/82106/Desktop/데이콘 한솔데크/data/result/baseline+RAG+Clustering.csv\", index=False, encoding='utf-8-sig')"
   ]
  },
  {
   "cell_type": "code",
   "execution_count": null,
   "metadata": {},
   "outputs": [],
   "source": []
  }
 ],
 "metadata": {
  "kernelspec": {
   "display_name": "Python 3",
   "language": "python",
   "name": "python3"
  },
  "language_info": {
   "codemirror_mode": {
    "name": "ipython",
    "version": 3
   },
   "file_extension": ".py",
   "mimetype": "text/x-python",
   "name": "python",
   "nbconvert_exporter": "python",
   "pygments_lexer": "ipython3",
   "version": "3.10.2"
  }
 },
 "nbformat": 4,
 "nbformat_minor": 2
}
